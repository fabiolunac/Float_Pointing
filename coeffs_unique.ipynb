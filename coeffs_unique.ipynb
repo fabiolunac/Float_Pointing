{
 "cells": [
  {
   "cell_type": "code",
   "execution_count": 31,
   "metadata": {},
   "outputs": [],
   "source": [
    "from funcoes import f2mf, mf2f\n",
    "import numpy as np\n",
    "import math\n",
    "import matplotlib.pyplot as plt\n",
    "import numpy as np\n",
    "import scipy.signal as signal\n",
    "\n",
    "nbmant = 23\n",
    "nbexpo = 8\n",
    "\n",
    "# Numerador\n",
    "Znti = [4.294341492410895e-23,\n",
    "            2.410259936829204e-09,\n",
    "                1.361884841455440e-08,\n",
    "                    -4.120546556616038e-09,\n",
    "                        -9.988893287934183e-09,\n",
    "                            -1.906299572480522e-09,\n",
    "                                -1.381565400439083e-11,\n",
    "                                    -2.560176577052387e-17,\n",
    "                                                            0]\n",
    "\n",
    "# Denominador\n",
    "Zdti = [1.444400000000000e-08,\n",
    "          -4.944897983017996e-09,\n",
    "              -8.723804374709209e-09,\n",
    "                  -5.868442605271617e-10,\n",
    "                      -3.124085233920797e-10,\n",
    "                          -6.992432687036571e-11,\n",
    "                              2.478522822801157e-10,\n",
    "                                    -2.439636477041001e-13,\n",
    "                                        8.276140953857137e-26]\n",
    "\n",
    "b = np.zeros(len(Znti))\n",
    "a = np.zeros(len(Zdti))\n",
    "a_neg = np.zeros(len(Zdti))"
   ]
  },
  {
   "cell_type": "code",
   "execution_count": 30,
   "metadata": {},
   "outputs": [],
   "source": [
    "def inverter_primeiro_bit(num: int, num_bits: int) -> int:\n",
    "    mask = 1 << (num_bits - 1)  # Cria uma máscara com o primeiro bit ligado\n",
    "    return num ^ mask  # Inverte o primeiro bit com XOR"
   ]
  },
  {
   "cell_type": "markdown",
   "metadata": {},
   "source": [
    "### Normalização dos Coeficientes"
   ]
  },
  {
   "cell_type": "code",
   "execution_count": 3,
   "metadata": {},
   "outputs": [
    {
     "name": "stdout",
     "output_type": "stream",
     "text": [
      "----- b -----\n",
      "b_0: 2.973097128503804e-15\n",
      "b_1: 0.16686928391229605\n",
      "b_2: 0.9428723632341734\n",
      "b_3: -0.2852773855314344\n",
      "b_4: -0.6915600448583621\n",
      "b_5: -0.13197864666854903\n",
      "b_6: -0.0009564977848512068\n",
      "b_7: -1.77248447594322e-09\n",
      "b_8: 0.0\n",
      "----- a -----\n",
      "a_0: 1.0\n",
      "a_1: -0.34234962496662946\n",
      "a_2: -0.6039742713036007\n",
      "a_3: -0.04062892969587106\n",
      "a_4: -0.02162894789477151\n",
      "a_5: -0.004841063892991257\n",
      "a_6: 0.01715953214345858\n",
      "a_7: -1.6890310696766833e-05\n",
      "a_8: 5.7298123468963835e-18\n"
     ]
    }
   ],
   "source": [
    "a0 = Zdti[0]\n",
    "Znti_norm = [i / a0 for i in Znti]\n",
    "Zdti_norm = [j / a0 for j in Zdti]\n",
    "\n",
    "print(\"----- b -----\")\n",
    "for i in range(len(Znti_norm)):\n",
    "    print(f\"b_{i}: {Znti_norm[i]}\")\n",
    "\n",
    "print(\"----- a -----\")\n",
    "\n",
    "for i in range(len(Zdti_norm)):\n",
    "    print(f\"a_{i}: {Zdti_norm[i]}\")"
   ]
  },
  {
   "cell_type": "markdown",
   "metadata": {},
   "source": [
    "### Conversão para o formato do float"
   ]
  },
  {
   "cell_type": "code",
   "execution_count": null,
   "metadata": {},
   "outputs": [
    {
     "name": "stdout",
     "output_type": "stream",
     "text": [
      "----- b -----\n",
      "parameter b0 = 0x5ceb1dfb\n",
      "parameter b1 = 0x73d56fe4\n",
      "parameter b2 = 0x74f8b00b\n",
      "parameter b3 = 0xf44907f1\n",
      "parameter b4 = 0xf4d8850a\n",
      "parameter b5 = 0xf3c392b5\n",
      "parameter b6 = 0xeffd5ebe\n",
      "parameter b7 = 0xe679cde1\n",
      "----- a -----\n",
      "parameter a1 = 0xf457a43a\n",
      "parameter a2 = 0xf4cd4f08\n",
      "parameter a3 = 0xf2d33543\n",
      "parameter a4 = 0xf2589799\n",
      "parameter a5 = 0xf14f50e5\n",
      "parameter a6 = 0x72464913\n",
      "parameter a7 = 0xed46d7d6\n",
      "parameter a8 = 0x5869b246\n",
      "----- -a -----\n",
      " parameter a1_neg = 0x7457a43a\n",
      " parameter a2_neg = 0x74cd4f08\n",
      " parameter a3_neg = 0x72d33543\n",
      " parameter a4_neg = 0x72589799\n",
      " parameter a5_neg = 0x714f50e5\n",
      " parameter a6_neg = 0xf2464913\n",
      " parameter a7_neg = 0x6d46d7d6\n",
      " parameter a8_neg = 0xd869b246\n"
     ]
    }
   ],
   "source": [
    "print(\"----- b -----\")\n",
    "for i in range(len(Znti_norm)-1):\n",
    "    b[i] = f2mf(Znti_norm[i], nbmant, nbexpo)\n",
    "    print(f\"parameter b{i} = {hex(int(b[i]))}\")\n",
    "\n",
    "print(\"----- a -----\")\n",
    "\n",
    "for i in range(1,len(Zdti_norm)):\n",
    "    a[i] = f2mf(Zdti_norm[i], nbmant, nbexpo)\n",
    "    print(f\"parameter a{i} = {hex(int(a[i]))}\")\n",
    "\n",
    "print('----- -a -----')\n",
    "\n",
    "for i in range(1,len(a)):\n",
    "    a_neg[i] = inverter_primeiro_bit(int(a[i]), 32)\n",
    "    print(f\" parameter [MAN+EXP:0] a{i}_neg = {hex(int(a_neg[i]))}\")"
   ]
  },
  {
   "cell_type": "markdown",
   "metadata": {},
   "source": [
    "### Teste de Filtragem"
   ]
  },
  {
   "cell_type": "code",
   "execution_count": null,
   "metadata": {},
   "outputs": [
    {
     "data": {
      "image/png": "[encoded data removed]",
      "text/plain": [
       "<Figure size 640x480 with 2 Axes>"
      ]
     },
     "metadata": {},
     "output_type": "display_data"
    },
    {
     "name": "stdout",
     "output_type": "stream",
     "text": [
      "0.0\n"
     ]
    }
   ],
   "source": [
    "# -------------- Definição do Sinal -------------- #\n",
    "N = 100\n",
    "x = np.zeros(N)\n",
    "x[0] = 1\n",
    "\n",
    "y = signal.lfilter(Znti, Zdti, x)\n",
    "y_norm = signal.lfilter(Znti_norm, Zdti_norm, x)\n",
    "\n",
    "plt.figure()\n",
    "plt.subplot(211)\n",
    "plt.plot(y)\n",
    "plt.title('Coeficientes Normais')\n",
    "\n",
    "plt.subplot(212)\n",
    "plt.plot(y_norm)\n",
    "plt.title('Coeficientes Normalizados')\n",
    "\n",
    "\n",
    "plt.tight_layout()\n",
    "plt.show()\n",
    "\n"
   ]
  }
 ],
 "metadata": {
  "kernelspec": {
   "display_name": ".venv",
   "language": "python",
   "name": "python3"
  },
  "language_info": {
   "codemirror_mode": {
    "name": "ipython",
    "version": 3
   },
   "file_extension": ".py",
   "mimetype": "text/x-python",
   "name": "python",
   "nbconvert_exporter": "python",
   "pygments_lexer": "ipython3",
   "version": "3.12.2"
  }
 },
 "nbformat": 4,
 "nbformat_minor": 2
}
